{
 "cells": [
  {
   "cell_type": "markdown",
   "metadata": {},
   "source": [
    "# NORMALISATION OF NUMERIC DATA"
   ]
  },
  {
   "cell_type": "code",
   "execution_count": 34,
   "metadata": {},
   "outputs": [],
   "source": [
    "import pandas as pd\n",
    "import numpy as np\n",
    "import matplotlib as plt\n",
    "%matplotlib inline\n",
    "import statistics as st\n",
    "import seaborn as sns\n",
    "import matplotlib.pyplot as plt\n",
    "from sklearn import preprocessing\n",
    "\n",
    "df = pd.read_csv('desktop/cleaneddata1.csv', encoding = \"ISO-8859-1\", engine='python')"
   ]
  },
  {
   "cell_type": "code",
   "execution_count": 35,
   "metadata": {},
   "outputs": [
    {
     "data": {
      "text/plain": [
       "Unnamed: 0    2353\n",
       "budget        2353\n",
       "company       2353\n",
       "country       2353\n",
       "director      2353\n",
       "genre         2353\n",
       "gross         2353\n",
       "name          2353\n",
       "rating        2353\n",
       "released      2353\n",
       "runtime       2353\n",
       "score         2353\n",
       "star          2353\n",
       "votes         2353\n",
       "writer        2353\n",
       "year          2353\n",
       "dtype: int64"
      ]
     },
     "execution_count": 35,
     "metadata": {},
     "output_type": "execute_result"
    }
   ],
   "source": [
    "df.count()"
   ]
  },
  {
   "cell_type": "code",
   "execution_count": 36,
   "metadata": {},
   "outputs": [
    {
     "data": {
      "text/plain": [
       "<matplotlib.axes._subplots.AxesSubplot at 0x1f612809048>"
      ]
     },
     "execution_count": 36,
     "metadata": {},
     "output_type": "execute_result"
    },
    {
     "data": {
      "image/png": "[encoded data removed]",
      "text/plain": [
       "<Figure size 432x288 with 1 Axes>"
      ]
     },
     "metadata": {
      "needs_background": "light"
     },
     "output_type": "display_data"
    }
   ],
   "source": [
    " sns.boxplot(x=\"rating\", y=\"budget\", data=df)"
   ]
  },
  {
   "cell_type": "code",
   "execution_count": 37,
   "metadata": {},
   "outputs": [
    {
     "data": {
      "text/plain": [
       "<matplotlib.axes._subplots.AxesSubplot at 0x1f61165dd68>"
      ]
     },
     "execution_count": 37,
     "metadata": {},
     "output_type": "execute_result"
    },
    {
     "data": {
      "image/png": "[encoded data removed]",
      "text/plain": [
       "<Figure size 432x288 with 1 Axes>"
      ]
     },
     "metadata": {
      "needs_background": "light"
     },
     "output_type": "display_data"
    }
   ],
   "source": [
    " sns.boxplot(x=\"rating\", y=\"gross\", data=df)"
   ]
  },
  {
   "cell_type": "code",
   "execution_count": 38,
   "metadata": {},
   "outputs": [
    {
     "data": {
      "text/plain": [
       "(array([1.08e+03, 3.90e+02, 2.74e+02, 1.58e+02, 1.07e+02, 7.10e+01,\n",
       "        5.00e+01, 2.80e+01, 4.10e+01, 3.00e+01, 1.70e+01, 1.90e+01,\n",
       "        1.20e+01, 7.00e+00, 6.00e+00, 1.00e+01, 1.00e+01, 1.60e+01,\n",
       "        2.00e+00, 5.00e+00, 3.00e+00, 2.00e+00, 1.00e+00, 7.00e+00,\n",
       "        1.00e+00, 0.00e+00, 1.00e+00, 1.00e+00, 1.00e+00, 1.00e+00,\n",
       "        1.00e+00, 0.00e+00, 0.00e+00, 0.00e+00, 1.00e+00]),\n",
       " array([1.78500000e+03, 8.57316257e+06, 1.71445401e+07, 2.57159177e+07,\n",
       "        3.42872953e+07, 4.28586729e+07, 5.14300504e+07, 6.00014280e+07,\n",
       "        6.85728056e+07, 7.71441831e+07, 8.57155607e+07, 9.42869383e+07,\n",
       "        1.02858316e+08, 1.11429693e+08, 1.20001071e+08, 1.28572449e+08,\n",
       "        1.37143826e+08, 1.45715204e+08, 1.54286581e+08, 1.62857959e+08,\n",
       "        1.71429336e+08, 1.80000714e+08, 1.88572092e+08, 1.97143469e+08,\n",
       "        2.05714847e+08, 2.14286224e+08, 2.22857602e+08, 2.31428979e+08,\n",
       "        2.40000357e+08, 2.48571735e+08, 2.57143112e+08, 2.65714490e+08,\n",
       "        2.74285867e+08, 2.82857245e+08, 2.91428622e+08, 3.00000000e+08]),\n",
       " <a list of 35 Patch objects>)"
      ]
     },
     "execution_count": 38,
     "metadata": {},
     "output_type": "execute_result"
    },
    {
     "data": {
      "image/png": "[encoded data removed]",
      "text/plain": [
       "<Figure size 432x288 with 1 Axes>"
      ]
     },
     "metadata": {
      "needs_background": "light"
     },
     "output_type": "display_data"
    }
   ],
   "source": [
    "plt.hist(df['budget'], bins = 35)"
   ]
  },
  {
   "cell_type": "code",
   "execution_count": 39,
   "metadata": {},
   "outputs": [
    {
     "name": "stdout",
     "output_type": "stream",
     "text": [
      "[2.09046978e-04 4.21699212e-03 5.09735164e-05 ... 1.27433791e-02\n",
      " 6.96151176e-03 2.03909562e-03]\n"
     ]
    },
    {
     "data": {
      "text/plain": [
       "0       0.000209\n",
       "1       0.004217\n",
       "2       0.000051\n",
       "3       0.000231\n",
       "4       0.001820\n",
       "5       0.000697\n",
       "6       0.006007\n",
       "7       0.001988\n",
       "8       0.000984\n",
       "9       0.000098\n",
       "10      0.000765\n",
       "11      0.002947\n",
       "12      0.007161\n",
       "13      0.007682\n",
       "14      0.015292\n",
       "15      0.001529\n",
       "16      0.000643\n",
       "17      0.009685\n",
       "18      0.002490\n",
       "19      0.005352\n",
       "20      0.002549\n",
       "21      0.001019\n",
       "22      0.000467\n",
       "23      0.001161\n",
       "24      0.000877\n",
       "25      0.000510\n",
       "26      0.008665\n",
       "27      0.001529\n",
       "28      0.001269\n",
       "29      0.001368\n",
       "          ...   \n",
       "2323    0.000151\n",
       "2324    0.000055\n",
       "2325    0.009175\n",
       "2326    0.000752\n",
       "2327    0.003823\n",
       "2328    0.000280\n",
       "2329    0.000264\n",
       "2330    0.000003\n",
       "2331    0.006627\n",
       "2332    0.003466\n",
       "2333    0.001784\n",
       "2334    0.008156\n",
       "2335    0.001241\n",
       "2336    0.020104\n",
       "2337    0.001019\n",
       "2338    0.015885\n",
       "2339    0.006185\n",
       "2340    0.001529\n",
       "2341    0.016692\n",
       "2342    0.015292\n",
       "2343    0.002263\n",
       "2344    0.000918\n",
       "2345    0.000915\n",
       "2346    0.000032\n",
       "2347    0.000002\n",
       "2348    0.007646\n",
       "2349    0.006043\n",
       "2350    0.012743\n",
       "2351    0.006962\n",
       "2352    0.002039\n",
       "Name: budget, Length: 2353, dtype: float64"
      ]
     },
     "execution_count": 39,
     "metadata": {},
     "output_type": "execute_result"
    }
   ],
   "source": [
    "for i in preprocessing.normalize([df['budget']]):\n",
    "    print(i)\n",
    "    values=i\n",
    "df['budget']=values\n",
    "df['budget']"
   ]
  },
  {
   "cell_type": "code",
   "execution_count": 40,
   "metadata": {},
   "outputs": [
    {
     "data": {
      "text/plain": [
       "(array([1.08e+03, 3.90e+02, 2.74e+02, 1.58e+02, 1.07e+02, 7.10e+01,\n",
       "        5.00e+01, 2.80e+01, 4.10e+01, 3.00e+01, 1.70e+01, 1.90e+01,\n",
       "        1.20e+01, 7.00e+00, 6.00e+00, 1.00e+01, 1.00e+01, 1.60e+01,\n",
       "        2.00e+00, 5.00e+00, 3.00e+00, 2.00e+00, 1.00e+00, 7.00e+00,\n",
       "        1.00e+00, 0.00e+00, 1.00e+00, 1.00e+00, 1.00e+00, 1.00e+00,\n",
       "        1.00e+00, 0.00e+00, 0.00e+00, 0.00e+00, 1.00e+00]),\n",
       " array([9.09877268e-07, 4.37004243e-03, 8.73917498e-03, 1.31083075e-02,\n",
       "        1.74774401e-02, 2.18465726e-02, 2.62157052e-02, 3.05848377e-02,\n",
       "        3.49539703e-02, 3.93231029e-02, 4.36922354e-02, 4.80613680e-02,\n",
       "        5.24305005e-02, 5.67996331e-02, 6.11687656e-02, 6.55378982e-02,\n",
       "        6.99070307e-02, 7.42761633e-02, 7.86452958e-02, 8.30144284e-02,\n",
       "        8.73835609e-02, 9.17526935e-02, 9.61218260e-02, 1.00490959e-01,\n",
       "        1.04860091e-01, 1.09229224e-01, 1.13598356e-01, 1.17967489e-01,\n",
       "        1.22336621e-01, 1.26705754e-01, 1.31074886e-01, 1.35444019e-01,\n",
       "        1.39813152e-01, 1.44182284e-01, 1.48551417e-01, 1.52920549e-01]),\n",
       " <a list of 35 Patch objects>)"
      ]
     },
     "execution_count": 40,
     "metadata": {},
     "output_type": "execute_result"
    },
    {
     "data": {
      "image/png": "[encoded data removed]",
      "text/plain": [
       "<Figure size 432x288 with 1 Axes>"
      ]
     },
     "metadata": {
      "needs_background": "light"
     },
     "output_type": "display_data"
    }
   ],
   "source": [
    "plt.hist(df['budget'], bins = 35)"
   ]
  },
  {
   "cell_type": "code",
   "execution_count": 41,
   "metadata": {},
   "outputs": [
    {
     "data": {
      "text/plain": [
       "(array([1.17e+03, 4.88e+02, 2.82e+02, 1.50e+02, 8.80e+01, 5.60e+01,\n",
       "        3.50e+01, 2.90e+01, 1.40e+01, 7.00e+00, 1.00e+01, 8.00e+00,\n",
       "        2.00e+00, 5.00e+00, 3.00e+00, 1.00e+00, 0.00e+00, 0.00e+00,\n",
       "        1.00e+00, 0.00e+00, 1.00e+00, 0.00e+00, 0.00e+00, 1.00e+00,\n",
       "        0.00e+00, 0.00e+00, 1.00e+00, 0.00e+00, 0.00e+00, 0.00e+00,\n",
       "        0.00e+00, 0.00e+00, 0.00e+00, 0.00e+00, 1.00e+00]),\n",
       " array([4.84820000e+04, 2.82753193e+07, 5.65021566e+07, 8.47289939e+07,\n",
       "        1.12955831e+08, 1.41182668e+08, 1.69409506e+08, 1.97636343e+08,\n",
       "        2.25863180e+08, 2.54090018e+08, 2.82316855e+08, 3.10543692e+08,\n",
       "        3.38770529e+08, 3.66997367e+08, 3.95224204e+08, 4.23451041e+08,\n",
       "        4.51677879e+08, 4.79904716e+08, 5.08131553e+08, 5.36358390e+08,\n",
       "        5.64585228e+08, 5.92812065e+08, 6.21038902e+08, 6.49265740e+08,\n",
       "        6.77492577e+08, 7.05719414e+08, 7.33946251e+08, 7.62173089e+08,\n",
       "        7.90399926e+08, 8.18626763e+08, 8.46853601e+08, 8.75080438e+08,\n",
       "        9.03307275e+08, 9.31534112e+08, 9.59760950e+08, 9.87987787e+08]),\n",
       " <a list of 35 Patch objects>)"
      ]
     },
     "execution_count": 41,
     "metadata": {},
     "output_type": "execute_result"
    },
    {
     "data": {
      "image/png": "[encoded data removed]",
      "text/plain": [
       "<Figure size 432x288 with 1 Axes>"
      ]
     },
     "metadata": {
      "needs_background": "light"
     },
     "output_type": "display_data"
    }
   ],
   "source": [
    "plt.hist(df['gross'], bins = 35)"
   ]
  },
  {
   "cell_type": "code",
   "execution_count": 42,
   "metadata": {},
   "outputs": [
    {
     "name": "stdout",
     "output_type": "stream",
     "text": [
      "[0.00034926 0.0021989  0.0001933  ... 0.04196428 0.00618183 0.00160728]\n"
     ]
    },
    {
     "data": {
      "text/plain": [
       "(array([1.17e+03, 4.88e+02, 2.82e+02, 1.50e+02, 8.80e+01, 5.60e+01,\n",
       "        3.50e+01, 2.90e+01, 1.40e+01, 7.00e+00, 1.00e+01, 8.00e+00,\n",
       "        2.00e+00, 5.00e+00, 3.00e+00, 1.00e+00, 0.00e+00, 0.00e+00,\n",
       "        1.00e+00, 0.00e+00, 1.00e+00, 0.00e+00, 0.00e+00, 1.00e+00,\n",
       "        0.00e+00, 0.00e+00, 1.00e+00, 0.00e+00, 0.00e+00, 0.00e+00,\n",
       "        0.00e+00, 0.00e+00, 0.00e+00, 0.00e+00, 1.00e+00]),\n",
       " array([1.19883014e-05, 6.99172990e-03, 1.39714715e-02, 2.09512131e-02,\n",
       "        2.79309547e-02, 3.49106963e-02, 4.18904379e-02, 4.88701795e-02,\n",
       "        5.58499211e-02, 6.28296627e-02, 6.98094043e-02, 7.67891459e-02,\n",
       "        8.37688875e-02, 9.07486291e-02, 9.77283706e-02, 1.04708112e-01,\n",
       "        1.11687854e-01, 1.18667595e-01, 1.25647337e-01, 1.32627079e-01,\n",
       "        1.39606820e-01, 1.46586562e-01, 1.53566303e-01, 1.60546045e-01,\n",
       "        1.67525787e-01, 1.74505528e-01, 1.81485270e-01, 1.88465011e-01,\n",
       "        1.95444753e-01, 2.02424495e-01, 2.09404236e-01, 2.16383978e-01,\n",
       "        2.23363719e-01, 2.30343461e-01, 2.37323203e-01, 2.44302944e-01]),\n",
       " <a list of 35 Patch objects>)"
      ]
     },
     "execution_count": 42,
     "metadata": {},
     "output_type": "execute_result"
    },
    {
     "data": {
      "image/png": "[encoded data removed]",
      "text/plain": [
       "<Figure size 432x288 with 1 Axes>"
      ]
     },
     "metadata": {
      "needs_background": "light"
     },
     "output_type": "display_data"
    }
   ],
   "source": [
    "for i in preprocessing.normalize([df['gross']]):\n",
    "    print(i)\n",
    "    values=i\n",
    "df['gross']=values\n",
    "df['gross']\n",
    "plt.hist(df['gross'], bins = 35)"
   ]
  },
  {
   "cell_type": "code",
   "execution_count": 43,
   "metadata": {},
   "outputs": [
    {
     "data": {
      "text/plain": [
       "(array([ 11., 126., 370., 615., 483., 264., 200., 114.,  84.,  27.,  25.,\n",
       "         12.,   9.,   5.,   4.,   0.,   2.,   0.,   0.,   0.,   0.,   1.,\n",
       "          0.,   0.,   0.,   0.,   0.,   0.,   0.,   0.,   0.,   0.,   0.,\n",
       "          0.,   1.]),\n",
       " array([ 69.        ,  77.22857143,  85.45714286,  93.68571429,\n",
       "        101.91428571, 110.14285714, 118.37142857, 126.6       ,\n",
       "        134.82857143, 143.05714286, 151.28571429, 159.51428571,\n",
       "        167.74285714, 175.97142857, 184.2       , 192.42857143,\n",
       "        200.65714286, 208.88571429, 217.11428571, 225.34285714,\n",
       "        233.57142857, 241.8       , 250.02857143, 258.25714286,\n",
       "        266.48571429, 274.71428571, 282.94285714, 291.17142857,\n",
       "        299.4       , 307.62857143, 315.85714286, 324.08571429,\n",
       "        332.31428571, 340.54285714, 348.77142857, 357.        ]),\n",
       " <a list of 35 Patch objects>)"
      ]
     },
     "execution_count": 43,
     "metadata": {},
     "output_type": "execute_result"
    },
    {
     "data": {
      "image/png": "[encoded data removed]",
      "text/plain": [
       "<Figure size 432x288 with 1 Axes>"
      ]
     },
     "metadata": {
      "needs_background": "light"
     },
     "output_type": "display_data"
    }
   ],
   "source": [
    "plt.hist(df['runtime'], bins = 35)"
   ]
  },
  {
   "cell_type": "code",
   "execution_count": 44,
   "metadata": {},
   "outputs": [
    {
     "name": "stdout",
     "output_type": "stream",
     "text": [
      "[0.01676256 0.0186674  0.01904837 ... 0.02781062 0.0209532  0.01923885]\n"
     ]
    },
    {
     "data": {
      "text/plain": [
       "(array([ 11., 126., 370., 615., 483., 264., 200., 114.,  84.,  27.,  25.,\n",
       "         12.,   9.,   5.,   4.,   0.,   2.,   0.,   0.,   0.,   0.,   1.,\n",
       "          0.,   0.,   0.,   0.,   0.,   0.,   0.,   0.,   0.,   0.,   0.,\n",
       "          0.,   1.]),\n",
       " array([0.01314337, 0.01471078, 0.01627819, 0.0178456 , 0.01941301,\n",
       "        0.02098042, 0.02254782, 0.02411523, 0.02568264, 0.02725005,\n",
       "        0.02881746, 0.03038487, 0.03195227, 0.03351968, 0.03508709,\n",
       "        0.0366545 , 0.03822191, 0.03978932, 0.04135673, 0.04292413,\n",
       "        0.04449154, 0.04605895, 0.04762636, 0.04919377, 0.05076118,\n",
       "        0.05232858, 0.05389599, 0.0554634 , 0.05703081, 0.05859822,\n",
       "        0.06016563, 0.06173304, 0.06330044, 0.06486785, 0.06643526,\n",
       "        0.06800267]),\n",
       " <a list of 35 Patch objects>)"
      ]
     },
     "execution_count": 44,
     "metadata": {},
     "output_type": "execute_result"
    },
    {
     "data": {
      "image/png": "[encoded data removed]",
      "text/plain": [
       "<Figure size 432x288 with 1 Axes>"
      ]
     },
     "metadata": {
      "needs_background": "light"
     },
     "output_type": "display_data"
    }
   ],
   "source": [
    "for i in preprocessing.normalize([df['runtime']]):\n",
    "    print(i)\n",
    "    values=i\n",
    "df['runtime']=values\n",
    "df['runtime']\n",
    "plt.hist(df['runtime'], bins = 35)"
   ]
  },
  {
   "cell_type": "code",
   "execution_count": 45,
   "metadata": {},
   "outputs": [
    {
     "data": {
      "text/plain": [
       "(array([1.426e+03, 3.940e+02, 1.690e+02, 1.070e+02, 6.100e+01, 5.100e+01,\n",
       "        4.200e+01, 2.700e+01, 1.600e+01, 9.000e+00, 1.400e+01, 9.000e+00,\n",
       "        3.000e+00, 3.000e+00, 4.000e+00, 6.000e+00, 4.000e+00, 0.000e+00,\n",
       "        4.000e+00, 0.000e+00, 0.000e+00, 1.000e+00, 0.000e+00, 0.000e+00,\n",
       "        0.000e+00, 1.000e+00, 0.000e+00, 0.000e+00, 0.000e+00, 0.000e+00,\n",
       "        1.000e+00, 0.000e+00, 0.000e+00, 0.000e+00, 1.000e+00]),\n",
       " array([1.03000000e+02, 5.26592286e+04, 1.05215457e+05, 1.57771686e+05,\n",
       "        2.10327914e+05, 2.62884143e+05, 3.15440371e+05, 3.67996600e+05,\n",
       "        4.20552829e+05, 4.73109057e+05, 5.25665286e+05, 5.78221514e+05,\n",
       "        6.30777743e+05, 6.83333971e+05, 7.35890200e+05, 7.88446429e+05,\n",
       "        8.41002657e+05, 8.93558886e+05, 9.46115114e+05, 9.98671343e+05,\n",
       "        1.05122757e+06, 1.10378380e+06, 1.15634003e+06, 1.20889626e+06,\n",
       "        1.26145249e+06, 1.31400871e+06, 1.36656494e+06, 1.41912117e+06,\n",
       "        1.47167740e+06, 1.52423363e+06, 1.57678986e+06, 1.62934609e+06,\n",
       "        1.68190231e+06, 1.73445854e+06, 1.78701477e+06, 1.83957100e+06]),\n",
       " <a list of 35 Patch objects>)"
      ]
     },
     "execution_count": 45,
     "metadata": {},
     "output_type": "execute_result"
    },
    {
     "data": {
      "image/png": "[encoded data removed]",
      "text/plain": [
       "<Figure size 432x288 with 1 Axes>"
      ]
     },
     "metadata": {
      "needs_background": "light"
     },
     "output_type": "display_data"
    }
   ],
   "source": [
    "plt.hist(df['votes'], bins = 35)"
   ]
  },
  {
   "cell_type": "code",
   "execution_count": 46,
   "metadata": {},
   "outputs": [
    {
     "name": "stdout",
     "output_type": "stream",
     "text": [
      "[1.16782233e-04 1.12051183e-04 7.19617599e-05 ... 4.37399264e-02\n",
      " 4.54708681e-02 1.97353259e-02]\n"
     ]
    },
    {
     "data": {
      "text/plain": [
       "(array([1.426e+03, 3.940e+02, 1.690e+02, 1.070e+02, 6.100e+01, 5.100e+01,\n",
       "        4.200e+01, 2.700e+01, 1.600e+01, 9.000e+00, 1.400e+01, 9.000e+00,\n",
       "        3.000e+00, 3.000e+00, 4.000e+00, 6.000e+00, 4.000e+00, 0.000e+00,\n",
       "        4.000e+00, 0.000e+00, 0.000e+00, 1.000e+00, 0.000e+00, 0.000e+00,\n",
       "        0.000e+00, 1.000e+00, 0.000e+00, 0.000e+00, 0.000e+00, 0.000e+00,\n",
       "        1.000e+00, 0.000e+00, 0.000e+00, 0.000e+00, 1.000e+00]),\n",
       " array([1.28236354e-05, 6.55614319e-03, 1.30994627e-02, 1.96427823e-02,\n",
       "        2.61861018e-02, 3.27294214e-02, 3.92727409e-02, 4.58160605e-02,\n",
       "        5.23593800e-02, 5.89026996e-02, 6.54460191e-02, 7.19893387e-02,\n",
       "        7.85326582e-02, 8.50759778e-02, 9.16192973e-02, 9.81626169e-02,\n",
       "        1.04705936e-01, 1.11249256e-01, 1.17792576e-01, 1.24335895e-01,\n",
       "        1.30879215e-01, 1.37422534e-01, 1.43965854e-01, 1.50509173e-01,\n",
       "        1.57052493e-01, 1.63595812e-01, 1.70139132e-01, 1.76682452e-01,\n",
       "        1.83225771e-01, 1.89769091e-01, 1.96312410e-01, 2.02855730e-01,\n",
       "        2.09399049e-01, 2.15942369e-01, 2.22485688e-01, 2.29029008e-01]),\n",
       " <a list of 35 Patch objects>)"
      ]
     },
     "execution_count": 46,
     "metadata": {},
     "output_type": "execute_result"
    },
    {
     "data": {
      "image/png": "[encoded data removed]",
      "text/plain": [
       "<Figure size 432x288 with 1 Axes>"
      ]
     },
     "metadata": {
      "needs_background": "light"
     },
     "output_type": "display_data"
    }
   ],
   "source": [
    "for i in preprocessing.normalize([df['votes']]):\n",
    "    print(i)\n",
    "    values=i\n",
    "df['votes']=values\n",
    "df['votes']\n",
    "plt.hist(df['votes'], bins = 35)"
   ]
  },
  {
   "cell_type": "code",
   "execution_count": 55,
   "metadata": {},
   "outputs": [
    {
     "data": {
      "text/plain": [
       "(array([  2.,   0.,   5.,   5.,   3.,   2.,   1.,   7.,  11.,   6.,   6.,\n",
       "         20.,  29.,  13.,  36.,  57.,  26.,  72.,  93., 117.,  80., 165.,\n",
       "        158.,  85., 194., 174., 108., 171., 166., 153.,  50., 127., 100.,\n",
       "         17.,  55.,  21.,   6.,   8.,   2.,   2.]),\n",
       " array([0.00703454, 0.00757812, 0.0081217 , 0.00866528, 0.00920885,\n",
       "        0.00975243, 0.01029601, 0.01083959, 0.01138317, 0.01192675,\n",
       "        0.01247032, 0.0130139 , 0.01355748, 0.01410106, 0.01464464,\n",
       "        0.01518821, 0.01573179, 0.01627537, 0.01681895, 0.01736253,\n",
       "        0.01790611, 0.01844968, 0.01899326, 0.01953684, 0.02008042,\n",
       "        0.020624  , 0.02116757, 0.02171115, 0.02225473, 0.02279831,\n",
       "        0.02334189, 0.02388547, 0.02442904, 0.02497262, 0.0255162 ,\n",
       "        0.02605978, 0.02660336, 0.02714694, 0.02769051, 0.02823409,\n",
       "        0.02877767]),\n",
       " <a list of 40 Patch objects>)"
      ]
     },
     "execution_count": 55,
     "metadata": {},
     "output_type": "execute_result"
    },
    {
     "data": {
      "image/png": "[encoded data removed]",
      "text/plain": [
       "<Figure size 432x288 with 1 Axes>"
      ]
     },
     "metadata": {
      "needs_background": "light"
     },
     "output_type": "display_data"
    }
   ],
   "source": [
    "plt.hist(df['score'], bins = 40)"
   ]
  },
  {
   "cell_type": "code",
   "execution_count": 54,
   "metadata": {},
   "outputs": [
    {
     "name": "stdout",
     "output_type": "stream",
     "text": [
      "[0.01918511 0.01566784 0.02302214 ... 0.0258999  0.02621965 0.02302214]\n"
     ]
    },
    {
     "data": {
      "text/plain": [
       "(array([  2.,   0.,   5.,   5.,   3.,   2.,   1.,   7.,  11.,   6.,   6.,\n",
       "         20.,  29.,  13.,  36.,  57.,  26.,  72.,  93., 117.,  80., 165.,\n",
       "        158.,  85., 194., 174., 108., 171., 166., 153.,  50., 127., 100.,\n",
       "         17.,  55.,  21.,   6.,   8.,   2.,   2.]),\n",
       " array([0.00703454, 0.00757812, 0.0081217 , 0.00866528, 0.00920885,\n",
       "        0.00975243, 0.01029601, 0.01083959, 0.01138317, 0.01192675,\n",
       "        0.01247032, 0.0130139 , 0.01355748, 0.01410106, 0.01464464,\n",
       "        0.01518821, 0.01573179, 0.01627537, 0.01681895, 0.01736253,\n",
       "        0.01790611, 0.01844968, 0.01899326, 0.01953684, 0.02008042,\n",
       "        0.020624  , 0.02116757, 0.02171115, 0.02225473, 0.02279831,\n",
       "        0.02334189, 0.02388547, 0.02442904, 0.02497262, 0.0255162 ,\n",
       "        0.02605978, 0.02660336, 0.02714694, 0.02769051, 0.02823409,\n",
       "        0.02877767]),\n",
       " <a list of 40 Patch objects>)"
      ]
     },
     "execution_count": 54,
     "metadata": {},
     "output_type": "execute_result"
    },
    {
     "data": {
      "image/png": "[encoded data removed]",
      "text/plain": [
       "<Figure size 432x288 with 1 Axes>"
      ]
     },
     "metadata": {
      "needs_background": "light"
     },
     "output_type": "display_data"
    }
   ],
   "source": [
    "for i in preprocessing.normalize([df['score']]):\n",
    "    print(i)\n",
    "    values=i\n",
    "df['score']=values\n",
    "df['score']\n",
    "plt.hist(df['score'], bins = 40)"
   ]
  },
  {
   "cell_type": "code",
   "execution_count": 49,
   "metadata": {},
   "outputs": [
    {
     "name": "stdout",
     "output_type": "stream",
     "text": [
      "0.011421761675976852 0.017165604037900482 0.020360145700837867 0.0032339274832804514 0.020322575473319074 0.0034622818938914867 0.012543385429716024 0.016363577090927294 0.010495607206097223 0.017747266313877758\n"
     ]
    }
   ],
   "source": [
    "print(df['budget'].mean(),df['budget'].std(),\n",
    "df['score'].mean(),df['score'].std(),\n",
    "df['runtime'].mean(),df['runtime'].std(),\n",
    "df['gross'].mean(),df['gross'].std(),\n",
    "df['votes'].mean(),df['votes'].std())"
   ]
  },
  {
   "cell_type": "code",
   "execution_count": 51,
   "metadata": {},
   "outputs": [],
   "source": [
    "df.to_csv(r'desktop/normaliseddata.csv')"
   ]
  },
  {
   "cell_type": "markdown",
   "metadata": {},
   "source": [
    "hence the numeric data is normalized.All the mean and standard deviation of numeric data is lying between 0 and 1.\n",
    "The goal of normalization is to change the values of numeric columns in the dataset to a common scale, without distorting differences in the ranges of values.when i plot a histograph for all the numeric datas the plot of before and after normalization is same the only thing that differs is range of values.after normalization its easier to talk about range of values."
   ]
  },
  {
   "cell_type": "code",
   "execution_count": 53,
   "metadata": {},
   "outputs": [
    {
     "data": {
      "image/png": "[encoded data removed]",
      "text/plain": [
       "<Figure size 432x288 with 1 Axes>"
      ]
     },
     "metadata": {
      "needs_background": "light"
     },
     "output_type": "display_data"
    },
    {
     "data": {
      "image/png": "[encoded data removed]",
      "text/plain": [
       "<Figure size 432x288 with 1 Axes>"
      ]
     },
     "metadata": {
      "needs_background": "light"
     },
     "output_type": "display_data"
    }
   ],
   "source": [
    "from scipy.stats import norm\n",
    "\n",
    "def normality_check(data):\n",
    "    pos=[]\n",
    "    th_Q=[]\n",
    "    data=np.sort(np.array(data))\n",
    "    pos=[(i-0.5)/len(data) for i in range(1,len(data)+1)]\n",
    "    th_Q=[norm.ppf(i,np.mean(data),np.std(data,ddof=1)) for i in pos]\n",
    "    plt.plot(data,th_Q,'ro',data,data)\n",
    "    plt.show()\n",
    "plt.hist(df.score)\n",
    "plt.show()\n",
    "normality_check(df.score)"
   ]
  },
  {
   "cell_type": "code",
   "execution_count": null,
   "metadata": {},
   "outputs": [],
   "source": []
  }
 ],
 "metadata": {
  "kernelspec": {
   "display_name": "Python 3",
   "language": "python",
   "name": "python3"
  },
  "language_info": {
   "codemirror_mode": {
    "name": "ipython",
    "version": 3
   },
   "file_extension": ".py",
   "mimetype": "text/x-python",
   "name": "python",
   "nbconvert_exporter": "python",
   "pygments_lexer": "ipython3",
   "version": "3.7.0"
  }
 },
 "nbformat": 4,
 "nbformat_minor": 2
}
